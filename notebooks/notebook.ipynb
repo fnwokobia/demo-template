{
 "cells": [
  {
   "cell_type": "code",
   "execution_count": null,
   "metadata": {},
   "outputs": [],
   "source": []
  },
  {
   "cell_type": "code",
   "execution_count": null,
   "metadata": {},
   "outputs": [],
   "source": [
    "def add(a, b):\n",
    "  return a + b\n",
    "\n",
    "def multiply(a, b):\n",
    "  return a * b\n",
    "\n",
    "def subtract(a, b):\n",
    "  return a - b\n",
    "\n",
    "def divide(a, b):\n",
    "  if b == 0:\n",
    "    return None\n",
    "  return a / b\n",
    "\n",
    "a = 10\n",
    "b = 5\n",
    "print(add(a, b))\n",
    "print(multiply(a, b))\n",
    "print(subtract(a, b))\n",
    "print(divide(a, b))\n",
    "\n",
    "\n"
   ]
  }
 ],
 "metadata": {
  "language_info": {
   "name": "python"
  }
 },
 "nbformat": 4,
 "nbformat_minor": 2
}
